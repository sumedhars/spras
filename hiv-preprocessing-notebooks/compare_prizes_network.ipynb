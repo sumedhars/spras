{
 "cells": [
  {
   "cell_type": "code",
   "execution_count": 1,
   "id": "01b0308e-9efd-46ee-bd97-15c1474df5a8",
   "metadata": {},
   "outputs": [],
   "source": [
    "# pip install pandas"
   ]
  },
  {
   "cell_type": "code",
   "execution_count": 2,
   "id": "5b17d79b-a05a-4df2-b457-d60a359325f1",
   "metadata": {},
   "outputs": [],
   "source": [
    "import pandas as pd"
   ]
  },
  {
   "cell_type": "markdown",
   "id": "4c75e6c9-2fe3-4a7c-bad5-abae234659ae",
   "metadata": {},
   "source": [
    "## Compare prizes and correctedprizes files:"
   ]
  },
  {
   "cell_type": "markdown",
   "id": "69b51b0c-5c81-40bb-b76e-7a443308a7e4",
   "metadata": {},
   "source": [
    "#### 5 minutes"
   ]
  },
  {
   "cell_type": "code",
   "execution_count": 3,
   "id": "2372785c-fb10-4dce-9ac8-5cb325ea3060",
   "metadata": {},
   "outputs": [],
   "source": [
    "corrected_prize_05_path = \"C:/Users/sumed/BDS-SROP-24/spras_raw_data/correctedprize_05.csv\"\n",
    "prize_05_path = \"C:/Users/sumed/BDS-SROP-24/spras_raw_data/prize_05.csv\""
   ]
  },
  {
   "cell_type": "code",
   "execution_count": 4,
   "id": "2a768e4e-e9eb-4053-92d2-fa003c1ce033",
   "metadata": {},
   "outputs": [
    {
     "data": {
      "text/html": [
       "<div>\n",
       "<style scoped>\n",
       "    .dataframe tbody tr th:only-of-type {\n",
       "        vertical-align: middle;\n",
       "    }\n",
       "\n",
       "    .dataframe tbody tr th {\n",
       "        vertical-align: top;\n",
       "    }\n",
       "\n",
       "    .dataframe thead th {\n",
       "        text-align: right;\n",
       "    }\n",
       "</style>\n",
       "<table border=\"1\" class=\"dataframe\">\n",
       "  <thead>\n",
       "    <tr style=\"text-align: right;\">\n",
       "      <th></th>\n",
       "      <th>Uniprot</th>\n",
       "      <th>Prize</th>\n",
       "    </tr>\n",
       "  </thead>\n",
       "  <tbody>\n",
       "    <tr>\n",
       "      <th>0</th>\n",
       "      <td>B0YIW2</td>\n",
       "      <td>5.029366</td>\n",
       "    </tr>\n",
       "    <tr>\n",
       "      <th>1</th>\n",
       "      <td>Q99081</td>\n",
       "      <td>4.582688</td>\n",
       "    </tr>\n",
       "    <tr>\n",
       "      <th>2</th>\n",
       "      <td>P02765</td>\n",
       "      <td>4.027456</td>\n",
       "    </tr>\n",
       "    <tr>\n",
       "      <th>3</th>\n",
       "      <td>P69905</td>\n",
       "      <td>3.955817</td>\n",
       "    </tr>\n",
       "    <tr>\n",
       "      <th>4</th>\n",
       "      <td>P06732</td>\n",
       "      <td>3.885428</td>\n",
       "    </tr>\n",
       "  </tbody>\n",
       "</table>\n",
       "</div>"
      ],
      "text/plain": [
       "  Uniprot     Prize\n",
       "0  B0YIW2  5.029366\n",
       "1  Q99081  4.582688\n",
       "2  P02765  4.027456\n",
       "3  P69905  3.955817\n",
       "4  P06732  3.885428"
      ]
     },
     "execution_count": 4,
     "metadata": {},
     "output_type": "execute_result"
    }
   ],
   "source": [
    "corrected_prize_05 = pd.read_csv(corrected_prize_05_path, sep='\\t', lineterminator='\\n')\n",
    "corrected_prize_05.head()"
   ]
  },
  {
   "cell_type": "code",
   "execution_count": 5,
   "id": "5a86ba80-d08a-41c7-9f0f-f0c4c900ad6a",
   "metadata": {},
   "outputs": [
    {
     "data": {
      "text/html": [
       "<div>\n",
       "<style scoped>\n",
       "    .dataframe tbody tr th:only-of-type {\n",
       "        vertical-align: middle;\n",
       "    }\n",
       "\n",
       "    .dataframe tbody tr th {\n",
       "        vertical-align: top;\n",
       "    }\n",
       "\n",
       "    .dataframe thead th {\n",
       "        text-align: right;\n",
       "    }\n",
       "</style>\n",
       "<table border=\"1\" class=\"dataframe\">\n",
       "  <thead>\n",
       "    <tr style=\"text-align: right;\">\n",
       "      <th></th>\n",
       "      <th>Uniprot</th>\n",
       "      <th>Prize</th>\n",
       "    </tr>\n",
       "  </thead>\n",
       "  <tbody>\n",
       "    <tr>\n",
       "      <th>0</th>\n",
       "      <td>B0YIW2</td>\n",
       "      <td>5.029366</td>\n",
       "    </tr>\n",
       "    <tr>\n",
       "      <th>1</th>\n",
       "      <td>Q99081</td>\n",
       "      <td>4.582688</td>\n",
       "    </tr>\n",
       "    <tr>\n",
       "      <th>2</th>\n",
       "      <td>P02765</td>\n",
       "      <td>4.027456</td>\n",
       "    </tr>\n",
       "    <tr>\n",
       "      <th>3</th>\n",
       "      <td>P69905</td>\n",
       "      <td>3.955817</td>\n",
       "    </tr>\n",
       "    <tr>\n",
       "      <th>4</th>\n",
       "      <td>P06732</td>\n",
       "      <td>3.885428</td>\n",
       "    </tr>\n",
       "  </tbody>\n",
       "</table>\n",
       "</div>"
      ],
      "text/plain": [
       "  Uniprot     Prize\n",
       "0  B0YIW2  5.029366\n",
       "1  Q99081  4.582688\n",
       "2  P02765  4.027456\n",
       "3  P69905  3.955817\n",
       "4  P06732  3.885428"
      ]
     },
     "execution_count": 5,
     "metadata": {},
     "output_type": "execute_result"
    }
   ],
   "source": [
    "prize_05 = pd.read_csv(prize_05_path, sep='\\t', lineterminator='\\n')\n",
    "prize_05.head()"
   ]
  },
  {
   "cell_type": "code",
   "execution_count": 6,
   "id": "f1ebefbf-748d-4c28-8a64-7790d2d319f9",
   "metadata": {},
   "outputs": [
    {
     "data": {
      "text/plain": [
       "1123"
      ]
     },
     "execution_count": 6,
     "metadata": {},
     "output_type": "execute_result"
    }
   ],
   "source": [
    "len(corrected_prize_05)"
   ]
  },
  {
   "cell_type": "code",
   "execution_count": 7,
   "id": "8754534c-233e-4ed5-81d7-c06f080bad21",
   "metadata": {},
   "outputs": [
    {
     "data": {
      "text/plain": [
       "1126"
      ]
     },
     "execution_count": 7,
     "metadata": {},
     "output_type": "execute_result"
    }
   ],
   "source": [
    "len(prize_05)"
   ]
  },
  {
   "cell_type": "code",
   "execution_count": 8,
   "id": "bc8d5783-f137-41b0-988c-2360db2dcc8e",
   "metadata": {},
   "outputs": [
    {
     "data": {
      "text/html": [
       "<div>\n",
       "<style scoped>\n",
       "    .dataframe tbody tr th:only-of-type {\n",
       "        vertical-align: middle;\n",
       "    }\n",
       "\n",
       "    .dataframe tbody tr th {\n",
       "        vertical-align: top;\n",
       "    }\n",
       "\n",
       "    .dataframe thead th {\n",
       "        text-align: right;\n",
       "    }\n",
       "</style>\n",
       "<table border=\"1\" class=\"dataframe\">\n",
       "  <thead>\n",
       "    <tr style=\"text-align: right;\">\n",
       "      <th></th>\n",
       "      <th>Uniprot</th>\n",
       "      <th>Prize</th>\n",
       "      <th>majorIdentifier</th>\n",
       "      <th>integerN</th>\n",
       "    </tr>\n",
       "  </thead>\n",
       "  <tbody>\n",
       "    <tr>\n",
       "      <th>0</th>\n",
       "      <td>B0YIW2</td>\n",
       "      <td>5.029366</td>\n",
       "      <td>B0YIW2</td>\n",
       "      <td></td>\n",
       "    </tr>\n",
       "    <tr>\n",
       "      <th>1</th>\n",
       "      <td>Q99081</td>\n",
       "      <td>4.582688</td>\n",
       "      <td>Q99081</td>\n",
       "      <td></td>\n",
       "    </tr>\n",
       "    <tr>\n",
       "      <th>2</th>\n",
       "      <td>P02765</td>\n",
       "      <td>4.027456</td>\n",
       "      <td>P02765</td>\n",
       "      <td></td>\n",
       "    </tr>\n",
       "    <tr>\n",
       "      <th>3</th>\n",
       "      <td>P69905</td>\n",
       "      <td>3.955817</td>\n",
       "      <td>P69905</td>\n",
       "      <td></td>\n",
       "    </tr>\n",
       "    <tr>\n",
       "      <th>4</th>\n",
       "      <td>P06732</td>\n",
       "      <td>3.885428</td>\n",
       "      <td>P06732</td>\n",
       "      <td></td>\n",
       "    </tr>\n",
       "  </tbody>\n",
       "</table>\n",
       "</div>"
      ],
      "text/plain": [
       "  Uniprot     Prize majorIdentifier integerN\n",
       "0  B0YIW2  5.029366          B0YIW2         \n",
       "1  Q99081  4.582688          Q99081         \n",
       "2  P02765  4.027456          P02765         \n",
       "3  P69905  3.955817          P69905         \n",
       "4  P06732  3.885428          P06732         "
      ]
     },
     "execution_count": 8,
     "metadata": {},
     "output_type": "execute_result"
    }
   ],
   "source": [
    "split_df = prize_05['Uniprot'].str.split('-', expand=True)\n",
    "split_df.columns = ['majorIdentifier', 'integerN']\n",
    "split_df = split_df.fillna('')\n",
    "prize_05 = pd.concat([prize_05, split_df], axis=1)\n",
    "prize_05.head()"
   ]
  },
  {
   "cell_type": "code",
   "execution_count": 9,
   "id": "3ba57356-e3aa-4f4f-8d5f-d09dc5e1278c",
   "metadata": {},
   "outputs": [
    {
     "name": "stdout",
     "output_type": "stream",
     "text": [
      "168 proteins with isoform syntax\n"
     ]
    },
    {
     "data": {
      "text/html": [
       "<div>\n",
       "<style scoped>\n",
       "    .dataframe tbody tr th:only-of-type {\n",
       "        vertical-align: middle;\n",
       "    }\n",
       "\n",
       "    .dataframe tbody tr th {\n",
       "        vertical-align: top;\n",
       "    }\n",
       "\n",
       "    .dataframe thead th {\n",
       "        text-align: right;\n",
       "    }\n",
       "</style>\n",
       "<table border=\"1\" class=\"dataframe\">\n",
       "  <thead>\n",
       "    <tr style=\"text-align: right;\">\n",
       "      <th></th>\n",
       "      <th>Uniprot</th>\n",
       "      <th>Prize</th>\n",
       "      <th>majorIdentifier</th>\n",
       "      <th>integerN</th>\n",
       "    </tr>\n",
       "  </thead>\n",
       "  <tbody>\n",
       "    <tr>\n",
       "      <th>16</th>\n",
       "      <td>P68363-2</td>\n",
       "      <td>3.324208</td>\n",
       "      <td>P68363</td>\n",
       "      <td>2</td>\n",
       "    </tr>\n",
       "    <tr>\n",
       "      <th>17</th>\n",
       "      <td>P61978-2</td>\n",
       "      <td>3.318842</td>\n",
       "      <td>P61978</td>\n",
       "      <td>2</td>\n",
       "    </tr>\n",
       "    <tr>\n",
       "      <th>27</th>\n",
       "      <td>Q8IX15-3</td>\n",
       "      <td>3.160465</td>\n",
       "      <td>Q8IX15</td>\n",
       "      <td>3</td>\n",
       "    </tr>\n",
       "    <tr>\n",
       "      <th>31</th>\n",
       "      <td>Q9Y6V0-5</td>\n",
       "      <td>3.139505</td>\n",
       "      <td>Q9Y6V0</td>\n",
       "      <td>5</td>\n",
       "    </tr>\n",
       "    <tr>\n",
       "      <th>33</th>\n",
       "      <td>P49790-3</td>\n",
       "      <td>3.138374</td>\n",
       "      <td>P49790</td>\n",
       "      <td>3</td>\n",
       "    </tr>\n",
       "  </tbody>\n",
       "</table>\n",
       "</div>"
      ],
      "text/plain": [
       "     Uniprot     Prize majorIdentifier integerN\n",
       "16  P68363-2  3.324208          P68363        2\n",
       "17  P61978-2  3.318842          P61978        2\n",
       "27  Q8IX15-3  3.160465          Q8IX15        3\n",
       "31  Q9Y6V0-5  3.139505          Q9Y6V0        5\n",
       "33  P49790-3  3.138374          P49790        3"
      ]
     },
     "execution_count": 9,
     "metadata": {},
     "output_type": "execute_result"
    }
   ],
   "source": [
    "secondary_identifiers_05 = prize_05[prize_05['integerN'] != '']\n",
    "print(str(len(secondary_identifiers_05)) + \" proteins with isoform syntax\")\n",
    "secondary_identifiers_05.head()"
   ]
  },
  {
   "cell_type": "markdown",
   "id": "6f7dc163-4717-4f7f-b96b-c6e599ba9815",
   "metadata": {},
   "source": [
    "##### find intersection i.e. repeats of the same protein in prize_05"
   ]
  },
  {
   "cell_type": "code",
   "execution_count": 10,
   "id": "8bddab17-b9d4-45fe-98cc-d1ecfafaa0f5",
   "metadata": {},
   "outputs": [
    {
     "name": "stdout",
     "output_type": "stream",
     "text": [
      "Intersection: ['P49790', 'P26358']\n"
     ]
    }
   ],
   "source": [
    "secondary_identifiers_05_list = secondary_identifiers_05['majorIdentifier'].tolist()\n",
    "prize_05_uniprot_list = prize_05['Uniprot'].tolist()\n",
    "intersection_05 = list(set(secondary_identifiers_05_list) & set(prize_05_uniprot_list))\n",
    "print(\"Intersection:\", intersection_05)"
   ]
  },
  {
   "cell_type": "code",
   "execution_count": 12,
   "id": "3599aa3e-4d06-4156-8b10-b54ed326b406",
   "metadata": {},
   "outputs": [
    {
     "name": "stdout",
     "output_type": "stream",
     "text": [
      "     Uniprot     Prize majorIdentifier integerN\n",
      "33  P49790-3  3.138374          P49790        3\n",
      "    Uniprot     Prize majorIdentifier integerN\n",
      "675  P49790  1.655626          P49790         \n",
      "---x---\n",
      "      Uniprot    Prize majorIdentifier integerN\n",
      "368  P26358-2  1.98066          P26358        2\n",
      "    Uniprot     Prize majorIdentifier integerN\n",
      "339  P26358  2.001547          P26358         \n",
      "---x---\n"
     ]
    }
   ],
   "source": [
    "for item in intersection_05:\n",
    "    print(secondary_identifiers_05.loc[secondary_identifiers_05['majorIdentifier'] == item])\n",
    "    print(prize_05.loc[prize_05['Uniprot'] == item])\n",
    "    print('---x---')"
   ]
  },
  {
   "cell_type": "markdown",
   "id": "25175b2f-cf91-4c2e-a3b3-a4b54177c5ad",
   "metadata": {},
   "source": [
    "#### 60 minutes"
   ]
  },
  {
   "cell_type": "code",
   "execution_count": 13,
   "id": "5c44dc40-ddb9-4864-9ad8-312a1c660db7",
   "metadata": {},
   "outputs": [],
   "source": [
    "corrected_prize_060_path = \"C:/Users/sumed/BDS-SROP-24/spras_raw_data/correctedprize_060.csv\"\n",
    "prize_060_path = \"C:/Users/sumed/BDS-SROP-24/spras_raw_data/prize_060.csv\""
   ]
  },
  {
   "cell_type": "code",
   "execution_count": 14,
   "id": "0d99be71-4841-437b-81d3-acea3f3067e0",
   "metadata": {},
   "outputs": [
    {
     "data": {
      "text/html": [
       "<div>\n",
       "<style scoped>\n",
       "    .dataframe tbody tr th:only-of-type {\n",
       "        vertical-align: middle;\n",
       "    }\n",
       "\n",
       "    .dataframe tbody tr th {\n",
       "        vertical-align: top;\n",
       "    }\n",
       "\n",
       "    .dataframe thead th {\n",
       "        text-align: right;\n",
       "    }\n",
       "</style>\n",
       "<table border=\"1\" class=\"dataframe\">\n",
       "  <thead>\n",
       "    <tr style=\"text-align: right;\">\n",
       "      <th></th>\n",
       "      <th>Uniprot</th>\n",
       "      <th>Prize</th>\n",
       "    </tr>\n",
       "  </thead>\n",
       "  <tbody>\n",
       "    <tr>\n",
       "      <th>0</th>\n",
       "      <td>A9Z1X7</td>\n",
       "      <td>6.343097</td>\n",
       "    </tr>\n",
       "    <tr>\n",
       "      <th>1</th>\n",
       "      <td>Q99081</td>\n",
       "      <td>6.341176</td>\n",
       "    </tr>\n",
       "    <tr>\n",
       "      <th>2</th>\n",
       "      <td>Q14152</td>\n",
       "      <td>6.278851</td>\n",
       "    </tr>\n",
       "    <tr>\n",
       "      <th>3</th>\n",
       "      <td>P69905</td>\n",
       "      <td>5.581821</td>\n",
       "    </tr>\n",
       "    <tr>\n",
       "      <th>4</th>\n",
       "      <td>B0YIW2</td>\n",
       "      <td>5.581821</td>\n",
       "    </tr>\n",
       "  </tbody>\n",
       "</table>\n",
       "</div>"
      ],
      "text/plain": [
       "  Uniprot     Prize\n",
       "0  A9Z1X7  6.343097\n",
       "1  Q99081  6.341176\n",
       "2  Q14152  6.278851\n",
       "3  P69905  5.581821\n",
       "4  B0YIW2  5.581821"
      ]
     },
     "execution_count": 14,
     "metadata": {},
     "output_type": "execute_result"
    }
   ],
   "source": [
    "corrected_prize_060 = pd.read_csv(corrected_prize_060_path, sep='\\t', lineterminator='\\n')\n",
    "corrected_prize_060.head()"
   ]
  },
  {
   "cell_type": "code",
   "execution_count": 15,
   "id": "7a748d43-2b87-4d10-a121-77c97df7d186",
   "metadata": {},
   "outputs": [
    {
     "data": {
      "text/html": [
       "<div>\n",
       "<style scoped>\n",
       "    .dataframe tbody tr th:only-of-type {\n",
       "        vertical-align: middle;\n",
       "    }\n",
       "\n",
       "    .dataframe tbody tr th {\n",
       "        vertical-align: top;\n",
       "    }\n",
       "\n",
       "    .dataframe thead th {\n",
       "        text-align: right;\n",
       "    }\n",
       "</style>\n",
       "<table border=\"1\" class=\"dataframe\">\n",
       "  <thead>\n",
       "    <tr style=\"text-align: right;\">\n",
       "      <th></th>\n",
       "      <th>Uniprot</th>\n",
       "      <th>Prize</th>\n",
       "    </tr>\n",
       "  </thead>\n",
       "  <tbody>\n",
       "    <tr>\n",
       "      <th>0</th>\n",
       "      <td>A9Z1X7</td>\n",
       "      <td>6.343097</td>\n",
       "    </tr>\n",
       "    <tr>\n",
       "      <th>1</th>\n",
       "      <td>Q99081</td>\n",
       "      <td>6.341176</td>\n",
       "    </tr>\n",
       "    <tr>\n",
       "      <th>2</th>\n",
       "      <td>Q14152</td>\n",
       "      <td>6.278851</td>\n",
       "    </tr>\n",
       "    <tr>\n",
       "      <th>3</th>\n",
       "      <td>B0YIW2</td>\n",
       "      <td>5.581821</td>\n",
       "    </tr>\n",
       "    <tr>\n",
       "      <th>4</th>\n",
       "      <td>P69905</td>\n",
       "      <td>5.581821</td>\n",
       "    </tr>\n",
       "  </tbody>\n",
       "</table>\n",
       "</div>"
      ],
      "text/plain": [
       "  Uniprot     Prize\n",
       "0  A9Z1X7  6.343097\n",
       "1  Q99081  6.341176\n",
       "2  Q14152  6.278851\n",
       "3  B0YIW2  5.581821\n",
       "4  P69905  5.581821"
      ]
     },
     "execution_count": 15,
     "metadata": {},
     "output_type": "execute_result"
    }
   ],
   "source": [
    "prize_060 = pd.read_csv(prize_060_path, sep='\\t', lineterminator='\\n')\n",
    "prize_060.head()"
   ]
  },
  {
   "cell_type": "code",
   "execution_count": 16,
   "id": "2056469c-c6c4-41da-9a7e-415e75f855ef",
   "metadata": {},
   "outputs": [
    {
     "data": {
      "text/plain": [
       "1780"
      ]
     },
     "execution_count": 16,
     "metadata": {},
     "output_type": "execute_result"
    }
   ],
   "source": [
    "len(corrected_prize_060)"
   ]
  },
  {
   "cell_type": "code",
   "execution_count": 17,
   "id": "0d918867-0062-4dcf-a809-8d694e8312d6",
   "metadata": {},
   "outputs": [
    {
     "data": {
      "text/plain": [
       "1788"
      ]
     },
     "execution_count": 17,
     "metadata": {},
     "output_type": "execute_result"
    }
   ],
   "source": [
    "len(prize_060)"
   ]
  },
  {
   "cell_type": "code",
   "execution_count": 18,
   "id": "913c97c1-c35c-4314-94f8-b6248b9de18e",
   "metadata": {},
   "outputs": [
    {
     "data": {
      "text/html": [
       "<div>\n",
       "<style scoped>\n",
       "    .dataframe tbody tr th:only-of-type {\n",
       "        vertical-align: middle;\n",
       "    }\n",
       "\n",
       "    .dataframe tbody tr th {\n",
       "        vertical-align: top;\n",
       "    }\n",
       "\n",
       "    .dataframe thead th {\n",
       "        text-align: right;\n",
       "    }\n",
       "</style>\n",
       "<table border=\"1\" class=\"dataframe\">\n",
       "  <thead>\n",
       "    <tr style=\"text-align: right;\">\n",
       "      <th></th>\n",
       "      <th>Uniprot</th>\n",
       "      <th>Prize</th>\n",
       "      <th>majorIdentifier</th>\n",
       "      <th>integerN</th>\n",
       "    </tr>\n",
       "  </thead>\n",
       "  <tbody>\n",
       "    <tr>\n",
       "      <th>0</th>\n",
       "      <td>A9Z1X7</td>\n",
       "      <td>6.343097</td>\n",
       "      <td>A9Z1X7</td>\n",
       "      <td></td>\n",
       "    </tr>\n",
       "    <tr>\n",
       "      <th>1</th>\n",
       "      <td>Q99081</td>\n",
       "      <td>6.341176</td>\n",
       "      <td>Q99081</td>\n",
       "      <td></td>\n",
       "    </tr>\n",
       "    <tr>\n",
       "      <th>2</th>\n",
       "      <td>Q14152</td>\n",
       "      <td>6.278851</td>\n",
       "      <td>Q14152</td>\n",
       "      <td></td>\n",
       "    </tr>\n",
       "    <tr>\n",
       "      <th>3</th>\n",
       "      <td>B0YIW2</td>\n",
       "      <td>5.581821</td>\n",
       "      <td>B0YIW2</td>\n",
       "      <td></td>\n",
       "    </tr>\n",
       "    <tr>\n",
       "      <th>4</th>\n",
       "      <td>P69905</td>\n",
       "      <td>5.581821</td>\n",
       "      <td>P69905</td>\n",
       "      <td></td>\n",
       "    </tr>\n",
       "  </tbody>\n",
       "</table>\n",
       "</div>"
      ],
      "text/plain": [
       "  Uniprot     Prize majorIdentifier integerN\n",
       "0  A9Z1X7  6.343097          A9Z1X7         \n",
       "1  Q99081  6.341176          Q99081         \n",
       "2  Q14152  6.278851          Q14152         \n",
       "3  B0YIW2  5.581821          B0YIW2         \n",
       "4  P69905  5.581821          P69905         "
      ]
     },
     "execution_count": 18,
     "metadata": {},
     "output_type": "execute_result"
    }
   ],
   "source": [
    "split_df = prize_060['Uniprot'].str.split('-', expand=True)\n",
    "split_df.columns = ['majorIdentifier', 'integerN']\n",
    "split_df = split_df.fillna('')\n",
    "prize_060 = pd.concat([prize_060, split_df], axis=1)\n",
    "prize_060.head()"
   ]
  },
  {
   "cell_type": "code",
   "execution_count": 19,
   "id": "2772df2d-31a5-4292-b44a-f1d3fe054264",
   "metadata": {},
   "outputs": [
    {
     "name": "stdout",
     "output_type": "stream",
     "text": [
      "253 proteins with isoform syntax\n"
     ]
    },
    {
     "data": {
      "text/html": [
       "<div>\n",
       "<style scoped>\n",
       "    .dataframe tbody tr th:only-of-type {\n",
       "        vertical-align: middle;\n",
       "    }\n",
       "\n",
       "    .dataframe tbody tr th {\n",
       "        vertical-align: top;\n",
       "    }\n",
       "\n",
       "    .dataframe thead th {\n",
       "        text-align: right;\n",
       "    }\n",
       "</style>\n",
       "<table border=\"1\" class=\"dataframe\">\n",
       "  <thead>\n",
       "    <tr style=\"text-align: right;\">\n",
       "      <th></th>\n",
       "      <th>Uniprot</th>\n",
       "      <th>Prize</th>\n",
       "      <th>majorIdentifier</th>\n",
       "      <th>integerN</th>\n",
       "    </tr>\n",
       "  </thead>\n",
       "  <tbody>\n",
       "    <tr>\n",
       "      <th>8</th>\n",
       "      <td>Q9UKV3-5</td>\n",
       "      <td>5.158391</td>\n",
       "      <td>Q9UKV3</td>\n",
       "      <td>5</td>\n",
       "    </tr>\n",
       "    <tr>\n",
       "      <th>9</th>\n",
       "      <td>Q96DC7-2</td>\n",
       "      <td>5.086508</td>\n",
       "      <td>Q96DC7</td>\n",
       "      <td>2</td>\n",
       "    </tr>\n",
       "    <tr>\n",
       "      <th>11</th>\n",
       "      <td>P37802-2</td>\n",
       "      <td>4.898987</td>\n",
       "      <td>P37802</td>\n",
       "      <td>2</td>\n",
       "    </tr>\n",
       "    <tr>\n",
       "      <th>13</th>\n",
       "      <td>Q9NRA8-3</td>\n",
       "      <td>4.898987</td>\n",
       "      <td>Q9NRA8</td>\n",
       "      <td>3</td>\n",
       "    </tr>\n",
       "    <tr>\n",
       "      <th>28</th>\n",
       "      <td>Q13740-2</td>\n",
       "      <td>4.630059</td>\n",
       "      <td>Q13740</td>\n",
       "      <td>2</td>\n",
       "    </tr>\n",
       "  </tbody>\n",
       "</table>\n",
       "</div>"
      ],
      "text/plain": [
       "     Uniprot     Prize majorIdentifier integerN\n",
       "8   Q9UKV3-5  5.158391          Q9UKV3        5\n",
       "9   Q96DC7-2  5.086508          Q96DC7        2\n",
       "11  P37802-2  4.898987          P37802        2\n",
       "13  Q9NRA8-3  4.898987          Q9NRA8        3\n",
       "28  Q13740-2  4.630059          Q13740        2"
      ]
     },
     "execution_count": 19,
     "metadata": {},
     "output_type": "execute_result"
    }
   ],
   "source": [
    "secondary_identifiers_060 = prize_060[prize_060['integerN'] != '']\n",
    "print(str(len(secondary_identifiers_060)) + \" proteins with isoform syntax\")\n",
    "secondary_identifiers_060.head()"
   ]
  },
  {
   "cell_type": "markdown",
   "id": "f13e8482-713b-4307-98da-d9edbeb0ed0a",
   "metadata": {},
   "source": [
    "##### find intersection i.e. repeats of the same protein in prize_060"
   ]
  },
  {
   "cell_type": "code",
   "execution_count": 20,
   "id": "845c2cc9-7e7d-49a6-850e-159a26495c3f",
   "metadata": {},
   "outputs": [
    {
     "name": "stdout",
     "output_type": "stream",
     "text": [
      "Intersection: ['Q7Z460', 'Q9NZN5', 'P49790', 'Q66PJ3', 'P26358', 'Q6KC79']\n"
     ]
    }
   ],
   "source": [
    "secondary_identifiers_060_list = secondary_identifiers_060['majorIdentifier'].tolist()\n",
    "prize_060_uniprot_list = prize_060['Uniprot'].tolist()\n",
    "intersection_060 = list(set(secondary_identifiers_060_list) & set(prize_060_uniprot_list))\n",
    "print(\"Intersection:\", intersection_060)"
   ]
  },
  {
   "cell_type": "code",
   "execution_count": 21,
   "id": "263c4034-e4f2-46a3-aa33-b87e76242fad",
   "metadata": {},
   "outputs": [
    {
     "name": "stdout",
     "output_type": "stream",
     "text": [
      "       Uniprot     Prize majorIdentifier integerN\n",
      "1158  Q7Z460-4  1.867287          Q7Z460        4\n",
      "    Uniprot     Prize majorIdentifier integerN\n",
      "192  Q7Z460  3.545568          Q7Z460         \n",
      "---x---\n",
      "       Uniprot     Prize majorIdentifier integerN\n",
      "1185  Q9NZN5-2  1.847335          Q9NZN5        2\n",
      "     Uniprot     Prize majorIdentifier integerN\n",
      "1061  Q9NZN5  1.953872          Q9NZN5         \n",
      "---x---\n",
      "     Uniprot     Prize majorIdentifier integerN\n",
      "85  P49790-3  4.111796          P49790        3\n",
      "    Uniprot     Prize majorIdentifier integerN\n",
      "698  P49790  2.276198          P49790         \n",
      "---x---\n",
      "       Uniprot     Prize majorIdentifier integerN\n",
      "1654  Q66PJ3-2  1.344998          Q66PJ3        2\n",
      "    Uniprot     Prize majorIdentifier integerN\n",
      "155  Q66PJ3  3.661493          Q66PJ3         \n",
      "---x---\n",
      "      Uniprot     Prize majorIdentifier integerN\n",
      "555  P26358-2  2.379461          P26358        2\n",
      "    Uniprot     Prize majorIdentifier integerN\n",
      "251  P26358  3.272237          P26358         \n",
      "---x---\n",
      "      Uniprot     Prize majorIdentifier integerN\n",
      "375  Q6KC79-2  2.770612          Q6KC79        2\n",
      "     Uniprot     Prize majorIdentifier integerN\n",
      "1038  Q6KC79  1.972153          Q6KC79         \n",
      "---x---\n"
     ]
    }
   ],
   "source": [
    "for item in intersection_060:\n",
    "    print(secondary_identifiers_060.loc[secondary_identifiers_060['majorIdentifier'] == item])\n",
    "    print(prize_060.loc[prize_060['Uniprot'] == item])\n",
    "    print('---x---')"
   ]
  },
  {
   "cell_type": "markdown",
   "id": "69f05d34-7069-4c59-a692-82fbc0dec0a7",
   "metadata": {},
   "source": [
    "## Compare prizes with network:"
   ]
  },
  {
   "cell_type": "markdown",
   "id": "b82400ed-2c59-489f-8928-2f6028d5e78c",
   "metadata": {},
   "source": [
    "need to intersect the Uniprot identifiers in these prize files with those in the network file to see if the network file contains secondary identifiers with the -N syntax. If it does not, we will want to strip that syntax from the prize file as part of your preprocessing.\n"
   ]
  },
  {
   "cell_type": "code",
   "execution_count": 22,
   "id": "b21398da-bcba-49d2-8e86-eb03bc2aa9df",
   "metadata": {},
   "outputs": [],
   "source": [
    "network_path = \"C:/Users/sumed/BDS-SROP-24/spras_raw_data/phosphosite-irefindex13.0-uniprot.txt\""
   ]
  },
  {
   "cell_type": "code",
   "execution_count": 23,
   "id": "fb973892-77c0-4262-8059-0c94368c6b83",
   "metadata": {},
   "outputs": [
    {
     "data": {
      "text/html": [
       "<div>\n",
       "<style scoped>\n",
       "    .dataframe tbody tr th:only-of-type {\n",
       "        vertical-align: middle;\n",
       "    }\n",
       "\n",
       "    .dataframe tbody tr th {\n",
       "        vertical-align: top;\n",
       "    }\n",
       "\n",
       "    .dataframe thead th {\n",
       "        text-align: right;\n",
       "    }\n",
       "</style>\n",
       "<table border=\"1\" class=\"dataframe\">\n",
       "  <thead>\n",
       "    <tr style=\"text-align: right;\">\n",
       "      <th></th>\n",
       "      <th>0</th>\n",
       "      <th>1</th>\n",
       "      <th>2</th>\n",
       "      <th>3</th>\n",
       "    </tr>\n",
       "  </thead>\n",
       "  <tbody>\n",
       "    <tr>\n",
       "      <th>0</th>\n",
       "      <td>TACC1_HUMAN</td>\n",
       "      <td>RUXG_HUMAN</td>\n",
       "      <td>0.736771</td>\n",
       "      <td>U</td>\n",
       "    </tr>\n",
       "    <tr>\n",
       "      <th>1</th>\n",
       "      <td>TACC1_HUMAN</td>\n",
       "      <td>KAT2A_HUMAN</td>\n",
       "      <td>0.292198</td>\n",
       "      <td>U</td>\n",
       "    </tr>\n",
       "    <tr>\n",
       "      <th>2</th>\n",
       "      <td>TACC1_HUMAN</td>\n",
       "      <td>CKAP5_HUMAN</td>\n",
       "      <td>0.724783</td>\n",
       "      <td>U</td>\n",
       "    </tr>\n",
       "    <tr>\n",
       "      <th>3</th>\n",
       "      <td>TACC1_HUMAN</td>\n",
       "      <td>YETS4_HUMAN</td>\n",
       "      <td>0.542597</td>\n",
       "      <td>U</td>\n",
       "    </tr>\n",
       "    <tr>\n",
       "      <th>4</th>\n",
       "      <td>TACC1_HUMAN</td>\n",
       "      <td>LSM7_HUMAN</td>\n",
       "      <td>0.714823</td>\n",
       "      <td>U</td>\n",
       "    </tr>\n",
       "  </tbody>\n",
       "</table>\n",
       "</div>"
      ],
      "text/plain": [
       "             0            1         2  3\n",
       "0  TACC1_HUMAN   RUXG_HUMAN  0.736771  U\n",
       "1  TACC1_HUMAN  KAT2A_HUMAN  0.292198  U\n",
       "2  TACC1_HUMAN  CKAP5_HUMAN  0.724783  U\n",
       "3  TACC1_HUMAN  YETS4_HUMAN  0.542597  U\n",
       "4  TACC1_HUMAN   LSM7_HUMAN  0.714823  U"
      ]
     },
     "execution_count": 23,
     "metadata": {},
     "output_type": "execute_result"
    }
   ],
   "source": [
    "network_df = pd.read_csv(network_path, sep='\\t', lineterminator='\\n', header=None)\n",
    "network_df.head()"
   ]
  },
  {
   "cell_type": "code",
   "execution_count": 24,
   "id": "0af35deb-26a2-4d56-a8c9-6e1aa8d0a7de",
   "metadata": {},
   "outputs": [
    {
     "data": {
      "text/plain": [
       "Index([0, 1, 2, 3], dtype='int64')"
      ]
     },
     "execution_count": 24,
     "metadata": {},
     "output_type": "execute_result"
    }
   ],
   "source": [
    "network_df.columns"
   ]
  },
  {
   "cell_type": "code",
   "execution_count": 25,
   "id": "b236932a-940b-486e-bc2f-8f1d30c8251f",
   "metadata": {},
   "outputs": [
    {
     "data": {
      "text/html": [
       "<div>\n",
       "<style scoped>\n",
       "    .dataframe tbody tr th:only-of-type {\n",
       "        vertical-align: middle;\n",
       "    }\n",
       "\n",
       "    .dataframe tbody tr th {\n",
       "        vertical-align: top;\n",
       "    }\n",
       "\n",
       "    .dataframe thead th {\n",
       "        text-align: right;\n",
       "    }\n",
       "</style>\n",
       "<table border=\"1\" class=\"dataframe\">\n",
       "  <thead>\n",
       "    <tr style=\"text-align: right;\">\n",
       "      <th></th>\n",
       "      <th>0</th>\n",
       "      <th>1</th>\n",
       "      <th>2</th>\n",
       "      <th>3</th>\n",
       "      <th>proteins</th>\n",
       "      <th>human</th>\n",
       "    </tr>\n",
       "  </thead>\n",
       "  <tbody>\n",
       "    <tr>\n",
       "      <th>0</th>\n",
       "      <td>TACC1_HUMAN</td>\n",
       "      <td>RUXG_HUMAN</td>\n",
       "      <td>0.736771</td>\n",
       "      <td>U</td>\n",
       "      <td>RUXG</td>\n",
       "      <td>HUMAN</td>\n",
       "    </tr>\n",
       "    <tr>\n",
       "      <th>1</th>\n",
       "      <td>TACC1_HUMAN</td>\n",
       "      <td>KAT2A_HUMAN</td>\n",
       "      <td>0.292198</td>\n",
       "      <td>U</td>\n",
       "      <td>KAT2A</td>\n",
       "      <td>HUMAN</td>\n",
       "    </tr>\n",
       "    <tr>\n",
       "      <th>2</th>\n",
       "      <td>TACC1_HUMAN</td>\n",
       "      <td>CKAP5_HUMAN</td>\n",
       "      <td>0.724783</td>\n",
       "      <td>U</td>\n",
       "      <td>CKAP5</td>\n",
       "      <td>HUMAN</td>\n",
       "    </tr>\n",
       "    <tr>\n",
       "      <th>3</th>\n",
       "      <td>TACC1_HUMAN</td>\n",
       "      <td>YETS4_HUMAN</td>\n",
       "      <td>0.542597</td>\n",
       "      <td>U</td>\n",
       "      <td>YETS4</td>\n",
       "      <td>HUMAN</td>\n",
       "    </tr>\n",
       "    <tr>\n",
       "      <th>4</th>\n",
       "      <td>TACC1_HUMAN</td>\n",
       "      <td>LSM7_HUMAN</td>\n",
       "      <td>0.714823</td>\n",
       "      <td>U</td>\n",
       "      <td>LSM7</td>\n",
       "      <td>HUMAN</td>\n",
       "    </tr>\n",
       "  </tbody>\n",
       "</table>\n",
       "</div>"
      ],
      "text/plain": [
       "             0            1         2  3 proteins  human\n",
       "0  TACC1_HUMAN   RUXG_HUMAN  0.736771  U     RUXG  HUMAN\n",
       "1  TACC1_HUMAN  KAT2A_HUMAN  0.292198  U    KAT2A  HUMAN\n",
       "2  TACC1_HUMAN  CKAP5_HUMAN  0.724783  U    CKAP5  HUMAN\n",
       "3  TACC1_HUMAN  YETS4_HUMAN  0.542597  U    YETS4  HUMAN\n",
       "4  TACC1_HUMAN   LSM7_HUMAN  0.714823  U     LSM7  HUMAN"
      ]
     },
     "execution_count": 25,
     "metadata": {},
     "output_type": "execute_result"
    }
   ],
   "source": [
    "proteins_df = network_df[1].str.split('_', expand=True)\n",
    "proteins_df.columns = ['proteins', 'human']\n",
    "proteins_df = proteins_df.fillna('')\n",
    "network_df = pd.concat([network_df, proteins_df], axis=1)\n",
    "network_df.head()"
   ]
  },
  {
   "cell_type": "code",
   "execution_count": 26,
   "id": "ea14f08d-0903-4699-b26a-f87b2e951505",
   "metadata": {},
   "outputs": [],
   "source": [
    "proteins_list = list(network_df['proteins'])\n",
    "# print(proteins_list)"
   ]
  },
  {
   "cell_type": "code",
   "execution_count": 27,
   "id": "70fcaa87-3485-465e-b042-2bfc3f551165",
   "metadata": {},
   "outputs": [
    {
     "name": "stdout",
     "output_type": "stream",
     "text": [
      "[]\n"
     ]
    }
   ],
   "source": [
    "result = [x for x in proteins_list if '-' in x]\n",
    "print(result)"
   ]
  },
  {
   "cell_type": "markdown",
   "id": "82dc4726-c924-478c-af6a-5901b5573f77",
   "metadata": {},
   "source": [
    "--> this means that there are no proteins in the network file containing secondary identifiers with the -N syntax"
   ]
  },
  {
   "cell_type": "code",
   "execution_count": 30,
   "id": "4070d8cb-cc14-497e-a9a2-05965eea96a3",
   "metadata": {},
   "outputs": [
    {
     "name": "stdout",
     "output_type": "stream",
     "text": [
      "['B7ZKJ8', 'Q9HBD4', 'J3KNL6', 'G3XAN8', 'F5H0R1', 'J3KPH8']\n"
     ]
    }
   ],
   "source": [
    "temp = list(set(proteins_list) & set(prize_05_uniprot_list))\n",
    "print(temp)"
   ]
  },
  {
   "cell_type": "code",
   "execution_count": null,
   "id": "f63bb805-4869-4bc7-bfc3-b16e657dffac",
   "metadata": {},
   "outputs": [],
   "source": []
  }
 ],
 "metadata": {
  "kernelspec": {
   "display_name": "Python 3 (ipykernel)",
   "language": "python",
   "name": "python3"
  },
  "language_info": {
   "codemirror_mode": {
    "name": "ipython",
    "version": 3
   },
   "file_extension": ".py",
   "mimetype": "text/x-python",
   "name": "python",
   "nbconvert_exporter": "python",
   "pygments_lexer": "ipython3",
   "version": "3.11.7"
  }
 },
 "nbformat": 4,
 "nbformat_minor": 5
}
