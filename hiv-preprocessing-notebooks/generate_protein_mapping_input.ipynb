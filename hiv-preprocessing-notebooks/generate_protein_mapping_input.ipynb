{
 "cells": [
  {
   "cell_type": "code",
   "execution_count": 1,
   "id": "14c98f02-2bf5-4e75-813d-f781339144fc",
   "metadata": {},
   "outputs": [],
   "source": [
    "import pandas as pd"
   ]
  },
  {
   "cell_type": "code",
   "execution_count": 2,
   "id": "bf49d9c8-6e0a-4916-81c2-e454bcf3f96f",
   "metadata": {},
   "outputs": [],
   "source": [
    "prize_05_path = \"C:/Users/sumed/BDS-SROP-24/spras_raw_data/prize_05.csv\"\n",
    "prize_060_path = \"C:/Users/sumed/BDS-SROP-24/spras_raw_data/prize_060.csv\""
   ]
  },
  {
   "cell_type": "code",
   "execution_count": 3,
   "id": "0dca49e1-af61-43ba-8657-4371aea162c7",
   "metadata": {},
   "outputs": [],
   "source": [
    "prize_05 = pd.read_csv(prize_05_path, sep='\\t', lineterminator='\\n')\n",
    "prize_060 = pd.read_csv(prize_060_path, sep='\\t', lineterminator='\\n')"
   ]
  },
  {
   "cell_type": "code",
   "execution_count": 4,
   "id": "941a97b3-0a51-486a-b2a5-412b4757b8c0",
   "metadata": {},
   "outputs": [
    {
     "data": {
      "text/html": [
       "<div>\n",
       "<style scoped>\n",
       "    .dataframe tbody tr th:only-of-type {\n",
       "        vertical-align: middle;\n",
       "    }\n",
       "\n",
       "    .dataframe tbody tr th {\n",
       "        vertical-align: top;\n",
       "    }\n",
       "\n",
       "    .dataframe thead th {\n",
       "        text-align: right;\n",
       "    }\n",
       "</style>\n",
       "<table border=\"1\" class=\"dataframe\">\n",
       "  <thead>\n",
       "    <tr style=\"text-align: right;\">\n",
       "      <th></th>\n",
       "      <th>Uniprot</th>\n",
       "      <th>Prize</th>\n",
       "    </tr>\n",
       "  </thead>\n",
       "  <tbody>\n",
       "    <tr>\n",
       "      <th>0</th>\n",
       "      <td>B0YIW2</td>\n",
       "      <td>5.029366</td>\n",
       "    </tr>\n",
       "    <tr>\n",
       "      <th>1</th>\n",
       "      <td>Q99081</td>\n",
       "      <td>4.582688</td>\n",
       "    </tr>\n",
       "    <tr>\n",
       "      <th>2</th>\n",
       "      <td>P02765</td>\n",
       "      <td>4.027456</td>\n",
       "    </tr>\n",
       "    <tr>\n",
       "      <th>3</th>\n",
       "      <td>P69905</td>\n",
       "      <td>3.955817</td>\n",
       "    </tr>\n",
       "    <tr>\n",
       "      <th>4</th>\n",
       "      <td>P06732</td>\n",
       "      <td>3.885428</td>\n",
       "    </tr>\n",
       "  </tbody>\n",
       "</table>\n",
       "</div>"
      ],
      "text/plain": [
       "  Uniprot     Prize\n",
       "0  B0YIW2  5.029366\n",
       "1  Q99081  4.582688\n",
       "2  P02765  4.027456\n",
       "3  P69905  3.955817\n",
       "4  P06732  3.885428"
      ]
     },
     "execution_count": 4,
     "metadata": {},
     "output_type": "execute_result"
    }
   ],
   "source": [
    "split_df_05 = prize_05['Uniprot'].str.split('-', expand=True)\n",
    "split_df_05.columns = ['majorIdentifier', 'integerN']\n",
    "split_df_05 = split_df_05.fillna('')\n",
    "prize_05['Uniprot'] = split_df_05['majorIdentifier'].values\n",
    "prize_05.head()"
   ]
  },
  {
   "cell_type": "code",
   "execution_count": 5,
   "id": "b15407c1-7493-4736-bee2-325f066601da",
   "metadata": {},
   "outputs": [
    {
     "data": {
      "text/html": [
       "<div>\n",
       "<style scoped>\n",
       "    .dataframe tbody tr th:only-of-type {\n",
       "        vertical-align: middle;\n",
       "    }\n",
       "\n",
       "    .dataframe tbody tr th {\n",
       "        vertical-align: top;\n",
       "    }\n",
       "\n",
       "    .dataframe thead th {\n",
       "        text-align: right;\n",
       "    }\n",
       "</style>\n",
       "<table border=\"1\" class=\"dataframe\">\n",
       "  <thead>\n",
       "    <tr style=\"text-align: right;\">\n",
       "      <th></th>\n",
       "      <th>Uniprot</th>\n",
       "      <th>Prize</th>\n",
       "    </tr>\n",
       "  </thead>\n",
       "  <tbody>\n",
       "    <tr>\n",
       "      <th>0</th>\n",
       "      <td>A9Z1X7</td>\n",
       "      <td>6.343097</td>\n",
       "    </tr>\n",
       "    <tr>\n",
       "      <th>1</th>\n",
       "      <td>Q99081</td>\n",
       "      <td>6.341176</td>\n",
       "    </tr>\n",
       "    <tr>\n",
       "      <th>2</th>\n",
       "      <td>Q14152</td>\n",
       "      <td>6.278851</td>\n",
       "    </tr>\n",
       "    <tr>\n",
       "      <th>3</th>\n",
       "      <td>B0YIW2</td>\n",
       "      <td>5.581821</td>\n",
       "    </tr>\n",
       "    <tr>\n",
       "      <th>4</th>\n",
       "      <td>P69905</td>\n",
       "      <td>5.581821</td>\n",
       "    </tr>\n",
       "  </tbody>\n",
       "</table>\n",
       "</div>"
      ],
      "text/plain": [
       "  Uniprot     Prize\n",
       "0  A9Z1X7  6.343097\n",
       "1  Q99081  6.341176\n",
       "2  Q14152  6.278851\n",
       "3  B0YIW2  5.581821\n",
       "4  P69905  5.581821"
      ]
     },
     "execution_count": 5,
     "metadata": {},
     "output_type": "execute_result"
    }
   ],
   "source": [
    "split_df_060 = prize_060['Uniprot'].str.split('-', expand=True)\n",
    "split_df_060.columns = ['majorIdentifier', 'integerN']\n",
    "split_df_060 = split_df_060.fillna('')\n",
    "prize_060['Uniprot'] = split_df_060['majorIdentifier'].values\n",
    "prize_060.head()"
   ]
  },
  {
   "cell_type": "code",
   "execution_count": 6,
   "id": "6c27ee03-5c80-48e7-9368-61558809e6ac",
   "metadata": {},
   "outputs": [],
   "source": [
    "protein_list_05 = prize_05['Uniprot'].tolist()\n",
    "protein_list_060 = prize_060['Uniprot'].tolist()"
   ]
  },
  {
   "cell_type": "code",
   "execution_count": 7,
   "id": "4eb4a419-69c5-4c2b-8479-f42bca2034fa",
   "metadata": {},
   "outputs": [
    {
     "name": "stdout",
     "output_type": "stream",
     "text": [
      "2914\n"
     ]
    }
   ],
   "source": [
    "combined_protein_list = protein_list_05 + protein_list_060\n",
    "print(len(combined_protein_list))"
   ]
  },
  {
   "cell_type": "code",
   "execution_count": 8,
   "id": "81c75dad-d7d0-45be-b4ad-f30adab2e48c",
   "metadata": {},
   "outputs": [
    {
     "name": "stdout",
     "output_type": "stream",
     "text": [
      "2085\n"
     ]
    }
   ],
   "source": [
    "combined_protein_list = set(combined_protein_list)\n",
    "print(len(combined_protein_list))"
   ]
  },
  {
   "cell_type": "code",
   "execution_count": 9,
   "id": "7645de1f-34d4-4736-8989-a8b6bc353a0c",
   "metadata": {},
   "outputs": [
    {
     "data": {
      "text/html": [
       "<div>\n",
       "<style scoped>\n",
       "    .dataframe tbody tr th:only-of-type {\n",
       "        vertical-align: middle;\n",
       "    }\n",
       "\n",
       "    .dataframe tbody tr th {\n",
       "        vertical-align: top;\n",
       "    }\n",
       "\n",
       "    .dataframe thead th {\n",
       "        text-align: right;\n",
       "    }\n",
       "</style>\n",
       "<table border=\"1\" class=\"dataframe\">\n",
       "  <thead>\n",
       "    <tr style=\"text-align: right;\">\n",
       "      <th></th>\n",
       "      <th>Uniprot</th>\n",
       "    </tr>\n",
       "  </thead>\n",
       "  <tbody>\n",
       "    <tr>\n",
       "      <th>0</th>\n",
       "      <td>Q96K83</td>\n",
       "    </tr>\n",
       "    <tr>\n",
       "      <th>1</th>\n",
       "      <td>P07305</td>\n",
       "    </tr>\n",
       "    <tr>\n",
       "      <th>2</th>\n",
       "      <td>O95793</td>\n",
       "    </tr>\n",
       "    <tr>\n",
       "      <th>3</th>\n",
       "      <td>Q5QP82</td>\n",
       "    </tr>\n",
       "    <tr>\n",
       "      <th>4</th>\n",
       "      <td>Q9Y4I1</td>\n",
       "    </tr>\n",
       "  </tbody>\n",
       "</table>\n",
       "</div>"
      ],
      "text/plain": [
       "  Uniprot\n",
       "0  Q96K83\n",
       "1  P07305\n",
       "2  O95793\n",
       "3  Q5QP82\n",
       "4  Q9Y4I1"
      ]
     },
     "execution_count": 9,
     "metadata": {},
     "output_type": "execute_result"
    }
   ],
   "source": [
    "proteins = pd.DataFrame(combined_protein_list, columns=['Uniprot'])\n",
    "proteins.head()"
   ]
  },
  {
   "cell_type": "code",
   "execution_count": 10,
   "id": "ef941191-7808-4a3a-a02f-37bad073764b",
   "metadata": {},
   "outputs": [],
   "source": [
    "proteins.to_csv(\"C:/Users/sumed/BDS-SROP-24/spras_processed_data/prize_list_proteins.txt\", header=None, index=False)"
   ]
  },
  {
   "cell_type": "code",
   "execution_count": null,
   "id": "922274fa-a27e-4386-8972-b844114f46b1",
   "metadata": {},
   "outputs": [],
   "source": []
  }
 ],
 "metadata": {
  "kernelspec": {
   "display_name": "Python 3 (ipykernel)",
   "language": "python",
   "name": "python3"
  },
  "language_info": {
   "codemirror_mode": {
    "name": "ipython",
    "version": 3
   },
   "file_extension": ".py",
   "mimetype": "text/x-python",
   "name": "python",
   "nbconvert_exporter": "python",
   "pygments_lexer": "ipython3",
   "version": "3.11.7"
  }
 },
 "nbformat": 4,
 "nbformat_minor": 5
}
