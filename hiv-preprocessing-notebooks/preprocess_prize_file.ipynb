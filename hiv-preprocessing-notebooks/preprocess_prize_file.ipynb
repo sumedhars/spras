{
 "cells": [
  {
   "cell_type": "markdown",
   "id": "a0bc7f84-e8a9-4e23-b326-1e58b6b701bf",
   "metadata": {},
   "source": [
    "## Preprocess Prize Files to SPRAS compatible format\r\n"
   ]
  },
  {
   "cell_type": "code",
   "execution_count": 1,
   "id": "9269c94f-9a21-43c0-b8dc-e419d4b0add6",
   "metadata": {},
   "outputs": [],
   "source": [
    "import pandas as pd"
   ]
  },
  {
   "cell_type": "markdown",
   "id": "b8d0ae8d-4096-4e90-a3ff-747d67a76ae7",
   "metadata": {},
   "source": [
    "### strip the -N syntax from original prize files & taking max prize value"
   ]
  },
  {
   "cell_type": "markdown",
   "id": "3eb77b6e-529b-43b0-aa81-f881c495a7c5",
   "metadata": {},
   "source": [
    "#### prize_05"
   ]
  },
  {
   "cell_type": "code",
   "execution_count": 2,
   "id": "1317d656-1177-4002-8c06-7e39a306ccca",
   "metadata": {},
   "outputs": [
    {
     "data": {
      "text/html": [
       "<div>\n",
       "<style scoped>\n",
       "    .dataframe tbody tr th:only-of-type {\n",
       "        vertical-align: middle;\n",
       "    }\n",
       "\n",
       "    .dataframe tbody tr th {\n",
       "        vertical-align: top;\n",
       "    }\n",
       "\n",
       "    .dataframe thead th {\n",
       "        text-align: right;\n",
       "    }\n",
       "</style>\n",
       "<table border=\"1\" class=\"dataframe\">\n",
       "  <thead>\n",
       "    <tr style=\"text-align: right;\">\n",
       "      <th></th>\n",
       "      <th>Uniprot</th>\n",
       "      <th>Prize</th>\n",
       "    </tr>\n",
       "  </thead>\n",
       "  <tbody>\n",
       "    <tr>\n",
       "      <th>0</th>\n",
       "      <td>B0YIW2</td>\n",
       "      <td>5.029366</td>\n",
       "    </tr>\n",
       "    <tr>\n",
       "      <th>1</th>\n",
       "      <td>Q99081</td>\n",
       "      <td>4.582688</td>\n",
       "    </tr>\n",
       "    <tr>\n",
       "      <th>2</th>\n",
       "      <td>P02765</td>\n",
       "      <td>4.027456</td>\n",
       "    </tr>\n",
       "    <tr>\n",
       "      <th>3</th>\n",
       "      <td>P69905</td>\n",
       "      <td>3.955817</td>\n",
       "    </tr>\n",
       "    <tr>\n",
       "      <th>4</th>\n",
       "      <td>P06732</td>\n",
       "      <td>3.885428</td>\n",
       "    </tr>\n",
       "  </tbody>\n",
       "</table>\n",
       "</div>"
      ],
      "text/plain": [
       "  Uniprot     Prize\n",
       "0  B0YIW2  5.029366\n",
       "1  Q99081  4.582688\n",
       "2  P02765  4.027456\n",
       "3  P69905  3.955817\n",
       "4  P06732  3.885428"
      ]
     },
     "execution_count": 2,
     "metadata": {},
     "output_type": "execute_result"
    }
   ],
   "source": [
    "prize_05_path = \"C:/Users/sumed/BDS-SROP-24/spras_raw_data/prize_05.csv\"\n",
    "prize_05 = pd.read_csv(prize_05_path, sep='\\t', lineterminator='\\n')\n",
    "prize_05.head()"
   ]
  },
  {
   "cell_type": "code",
   "execution_count": 3,
   "id": "96dc4aa7-ac34-4b0b-8653-50e483f78c92",
   "metadata": {},
   "outputs": [
    {
     "data": {
      "text/html": [
       "<div>\n",
       "<style scoped>\n",
       "    .dataframe tbody tr th:only-of-type {\n",
       "        vertical-align: middle;\n",
       "    }\n",
       "\n",
       "    .dataframe tbody tr th {\n",
       "        vertical-align: top;\n",
       "    }\n",
       "\n",
       "    .dataframe thead th {\n",
       "        text-align: right;\n",
       "    }\n",
       "</style>\n",
       "<table border=\"1\" class=\"dataframe\">\n",
       "  <thead>\n",
       "    <tr style=\"text-align: right;\">\n",
       "      <th></th>\n",
       "      <th>Uniprot</th>\n",
       "      <th>Prize</th>\n",
       "    </tr>\n",
       "  </thead>\n",
       "  <tbody>\n",
       "    <tr>\n",
       "      <th>0</th>\n",
       "      <td>B0YIW2</td>\n",
       "      <td>5.029366</td>\n",
       "    </tr>\n",
       "    <tr>\n",
       "      <th>1</th>\n",
       "      <td>Q99081</td>\n",
       "      <td>4.582688</td>\n",
       "    </tr>\n",
       "    <tr>\n",
       "      <th>2</th>\n",
       "      <td>P02765</td>\n",
       "      <td>4.027456</td>\n",
       "    </tr>\n",
       "    <tr>\n",
       "      <th>3</th>\n",
       "      <td>P69905</td>\n",
       "      <td>3.955817</td>\n",
       "    </tr>\n",
       "    <tr>\n",
       "      <th>4</th>\n",
       "      <td>P06732</td>\n",
       "      <td>3.885428</td>\n",
       "    </tr>\n",
       "  </tbody>\n",
       "</table>\n",
       "</div>"
      ],
      "text/plain": [
       "  Uniprot     Prize\n",
       "0  B0YIW2  5.029366\n",
       "1  Q99081  4.582688\n",
       "2  P02765  4.027456\n",
       "3  P69905  3.955817\n",
       "4  P06732  3.885428"
      ]
     },
     "execution_count": 3,
     "metadata": {},
     "output_type": "execute_result"
    }
   ],
   "source": [
    "split_df_05 = prize_05['Uniprot'].str.split('-', expand=True)\n",
    "split_df_05.columns = ['majorIdentifier', 'integerN']\n",
    "split_df_05 = split_df_05.fillna('')\n",
    "prize_05['Uniprot'] = split_df_05['majorIdentifier'].values\n",
    "prize_05.head()"
   ]
  },
  {
   "cell_type": "code",
   "execution_count": 4,
   "id": "2ee2814b-9d81-4b42-80b7-eadd8c4d9998",
   "metadata": {},
   "outputs": [
    {
     "name": "stdout",
     "output_type": "stream",
     "text": [
      "['P26358', 'P49790', 'P46100']\n"
     ]
    }
   ],
   "source": [
    "uniprot_05 = prize_05['Uniprot'].tolist()\n",
    "uniprot_05_set = set()\n",
    "duplicate_uniprot_05 = [x for x in uniprot_05 if x in uniprot_05_set or uniprot_05_set.add(x)]\n",
    "print(duplicate_uniprot_05)"
   ]
  },
  {
   "cell_type": "code",
   "execution_count": 5,
   "id": "0dbf3724-2efb-4952-994e-3e7fc7d6bd0e",
   "metadata": {},
   "outputs": [
    {
     "name": "stdout",
     "output_type": "stream",
     "text": [
      "1126\n",
      "    Uniprot    Prize\n",
      "368  P26358  1.98066\n",
      "    Uniprot    Prize\n",
      "368  P26358  1.98066\n",
      "--x--\n",
      "    Uniprot     Prize\n",
      "675  P49790  1.655626\n",
      "    Uniprot     Prize\n",
      "675  P49790  1.655626\n",
      "--x--\n",
      "    Uniprot     Prize\n",
      "791  P46100  1.533349\n",
      "    Uniprot     Prize\n",
      "791  P46100  1.533349\n",
      "--x--\n",
      "1123\n"
     ]
    }
   ],
   "source": [
    "print(len(prize_05))\n",
    "for protein in duplicate_uniprot_05:\n",
    "    mask = prize_05['Uniprot'] == protein\n",
    "    subset = prize_05[mask]\n",
    "    print(subset[subset.Prize != subset.Prize.max()])\n",
    "    index = subset.index[subset.Prize != subset.Prize.max()]\n",
    "    print(prize_05.loc[index])\n",
    "    prize_05 = prize_05.drop(index=index)\n",
    "    print('--x--')\n",
    "print(len(prize_05))"
   ]
  },
  {
   "cell_type": "markdown",
   "id": "0a322df9-8bdc-4dab-9887-1b249f9dca98",
   "metadata": {},
   "source": [
    "#### prize_060"
   ]
  },
  {
   "cell_type": "code",
   "execution_count": 6,
   "id": "a1d82187-074b-4030-a3c3-efa3c2a63822",
   "metadata": {},
   "outputs": [
    {
     "data": {
      "text/html": [
       "<div>\n",
       "<style scoped>\n",
       "    .dataframe tbody tr th:only-of-type {\n",
       "        vertical-align: middle;\n",
       "    }\n",
       "\n",
       "    .dataframe tbody tr th {\n",
       "        vertical-align: top;\n",
       "    }\n",
       "\n",
       "    .dataframe thead th {\n",
       "        text-align: right;\n",
       "    }\n",
       "</style>\n",
       "<table border=\"1\" class=\"dataframe\">\n",
       "  <thead>\n",
       "    <tr style=\"text-align: right;\">\n",
       "      <th></th>\n",
       "      <th>Uniprot</th>\n",
       "      <th>Prize</th>\n",
       "    </tr>\n",
       "  </thead>\n",
       "  <tbody>\n",
       "    <tr>\n",
       "      <th>0</th>\n",
       "      <td>A9Z1X7</td>\n",
       "      <td>6.343097</td>\n",
       "    </tr>\n",
       "    <tr>\n",
       "      <th>1</th>\n",
       "      <td>Q99081</td>\n",
       "      <td>6.341176</td>\n",
       "    </tr>\n",
       "    <tr>\n",
       "      <th>2</th>\n",
       "      <td>Q14152</td>\n",
       "      <td>6.278851</td>\n",
       "    </tr>\n",
       "    <tr>\n",
       "      <th>3</th>\n",
       "      <td>B0YIW2</td>\n",
       "      <td>5.581821</td>\n",
       "    </tr>\n",
       "    <tr>\n",
       "      <th>4</th>\n",
       "      <td>P69905</td>\n",
       "      <td>5.581821</td>\n",
       "    </tr>\n",
       "  </tbody>\n",
       "</table>\n",
       "</div>"
      ],
      "text/plain": [
       "  Uniprot     Prize\n",
       "0  A9Z1X7  6.343097\n",
       "1  Q99081  6.341176\n",
       "2  Q14152  6.278851\n",
       "3  B0YIW2  5.581821\n",
       "4  P69905  5.581821"
      ]
     },
     "execution_count": 6,
     "metadata": {},
     "output_type": "execute_result"
    }
   ],
   "source": [
    "prize_060_path = \"C:/Users/sumed/BDS-SROP-24/spras_raw_data/prize_060.csv\"\n",
    "prize_060 = pd.read_csv(prize_060_path, sep='\\t', lineterminator='\\n')\n",
    "prize_060.head()"
   ]
  },
  {
   "cell_type": "code",
   "execution_count": 7,
   "id": "143cc2fd-a064-403f-b4d1-a8dca8ce958f",
   "metadata": {},
   "outputs": [
    {
     "data": {
      "text/html": [
       "<div>\n",
       "<style scoped>\n",
       "    .dataframe tbody tr th:only-of-type {\n",
       "        vertical-align: middle;\n",
       "    }\n",
       "\n",
       "    .dataframe tbody tr th {\n",
       "        vertical-align: top;\n",
       "    }\n",
       "\n",
       "    .dataframe thead th {\n",
       "        text-align: right;\n",
       "    }\n",
       "</style>\n",
       "<table border=\"1\" class=\"dataframe\">\n",
       "  <thead>\n",
       "    <tr style=\"text-align: right;\">\n",
       "      <th></th>\n",
       "      <th>Uniprot</th>\n",
       "      <th>Prize</th>\n",
       "    </tr>\n",
       "  </thead>\n",
       "  <tbody>\n",
       "    <tr>\n",
       "      <th>0</th>\n",
       "      <td>A9Z1X7</td>\n",
       "      <td>6.343097</td>\n",
       "    </tr>\n",
       "    <tr>\n",
       "      <th>1</th>\n",
       "      <td>Q99081</td>\n",
       "      <td>6.341176</td>\n",
       "    </tr>\n",
       "    <tr>\n",
       "      <th>2</th>\n",
       "      <td>Q14152</td>\n",
       "      <td>6.278851</td>\n",
       "    </tr>\n",
       "    <tr>\n",
       "      <th>3</th>\n",
       "      <td>B0YIW2</td>\n",
       "      <td>5.581821</td>\n",
       "    </tr>\n",
       "    <tr>\n",
       "      <th>4</th>\n",
       "      <td>P69905</td>\n",
       "      <td>5.581821</td>\n",
       "    </tr>\n",
       "  </tbody>\n",
       "</table>\n",
       "</div>"
      ],
      "text/plain": [
       "  Uniprot     Prize\n",
       "0  A9Z1X7  6.343097\n",
       "1  Q99081  6.341176\n",
       "2  Q14152  6.278851\n",
       "3  B0YIW2  5.581821\n",
       "4  P69905  5.581821"
      ]
     },
     "execution_count": 7,
     "metadata": {},
     "output_type": "execute_result"
    }
   ],
   "source": [
    "split_df_060 = prize_060['Uniprot'].str.split('-', expand=True)\n",
    "split_df_060.columns = ['majorIdentifier', 'integerN']\n",
    "split_df_060 = split_df_060.fillna('')\n",
    "prize_060['Uniprot'] = split_df_060['majorIdentifier'].values\n",
    "prize_060.head()"
   ]
  },
  {
   "cell_type": "code",
   "execution_count": 8,
   "id": "3c6782bd-6ecf-44ca-8f8b-8fd2adf6a08b",
   "metadata": {},
   "outputs": [
    {
     "name": "stdout",
     "output_type": "stream",
     "text": [
      "['P29590', 'P26358', 'P49790', 'Q6KC79', 'Q7Z460', 'Q9NZN5', 'Q66PJ3', 'Q32MZ4']\n"
     ]
    }
   ],
   "source": [
    "uniprot_060 = prize_060['Uniprot'].tolist()\n",
    "uniprot_060_set = set()\n",
    "duplicate_uniprot_060 = [x for x in uniprot_060 if x in uniprot_060_set or uniprot_060_set.add(x)]\n",
    "print(duplicate_uniprot_060)"
   ]
  },
  {
   "cell_type": "code",
   "execution_count": 9,
   "id": "78e6a69e-b8f2-4bc5-a09b-ed0c19a3333a",
   "metadata": {},
   "outputs": [
    {
     "name": "stdout",
     "output_type": "stream",
     "text": [
      "1788\n",
      "    Uniprot     Prize\n",
      "315  P29590  2.997793\n",
      "    Uniprot     Prize\n",
      "315  P29590  2.997793\n",
      "--x--\n",
      "    Uniprot     Prize\n",
      "555  P26358  2.379461\n",
      "    Uniprot     Prize\n",
      "555  P26358  2.379461\n",
      "--x--\n",
      "    Uniprot     Prize\n",
      "698  P49790  2.276198\n",
      "    Uniprot     Prize\n",
      "698  P49790  2.276198\n",
      "--x--\n",
      "     Uniprot     Prize\n",
      "1038  Q6KC79  1.972153\n",
      "     Uniprot     Prize\n",
      "1038  Q6KC79  1.972153\n",
      "--x--\n",
      "     Uniprot     Prize\n",
      "1158  Q7Z460  1.867287\n",
      "     Uniprot     Prize\n",
      "1158  Q7Z460  1.867287\n",
      "--x--\n",
      "     Uniprot     Prize\n",
      "1185  Q9NZN5  1.847335\n",
      "     Uniprot     Prize\n",
      "1185  Q9NZN5  1.847335\n",
      "--x--\n",
      "     Uniprot     Prize\n",
      "1654  Q66PJ3  1.344998\n",
      "     Uniprot     Prize\n",
      "1654  Q66PJ3  1.344998\n",
      "--x--\n",
      "     Uniprot     Prize\n",
      "1770  Q32MZ4  1.059807\n",
      "     Uniprot     Prize\n",
      "1770  Q32MZ4  1.059807\n",
      "--x--\n",
      "1780\n"
     ]
    }
   ],
   "source": [
    "print(len(prize_060))\n",
    "for protein in duplicate_uniprot_060:\n",
    "    mask = prize_060['Uniprot'] == protein\n",
    "    subset = prize_060[mask]\n",
    "    print(subset[subset.Prize != subset.Prize.max()])\n",
    "    index = subset.index[subset.Prize != subset.Prize.max()]\n",
    "    print(prize_060.loc[index])\n",
    "    prize_060 = prize_060.drop(index=index)\n",
    "    print('--x--')\n",
    "print(len(prize_060))"
   ]
  },
  {
   "cell_type": "markdown",
   "id": "239dc864-2968-4616-8123-9e2ff2cfe4b7",
   "metadata": {},
   "source": [
    "### modifying column headers"
   ]
  },
  {
   "cell_type": "code",
   "execution_count": 10,
   "id": "c9a760c9-3aca-42d3-bd81-653837fe6c1c",
   "metadata": {},
   "outputs": [
    {
     "data": {
      "text/html": [
       "<div>\n",
       "<style scoped>\n",
       "    .dataframe tbody tr th:only-of-type {\n",
       "        vertical-align: middle;\n",
       "    }\n",
       "\n",
       "    .dataframe tbody tr th {\n",
       "        vertical-align: top;\n",
       "    }\n",
       "\n",
       "    .dataframe thead th {\n",
       "        text-align: right;\n",
       "    }\n",
       "</style>\n",
       "<table border=\"1\" class=\"dataframe\">\n",
       "  <thead>\n",
       "    <tr style=\"text-align: right;\">\n",
       "      <th></th>\n",
       "      <th>NODEID</th>\n",
       "      <th>prize</th>\n",
       "    </tr>\n",
       "  </thead>\n",
       "  <tbody>\n",
       "    <tr>\n",
       "      <th>0</th>\n",
       "      <td>B0YIW2</td>\n",
       "      <td>5.029366</td>\n",
       "    </tr>\n",
       "    <tr>\n",
       "      <th>1</th>\n",
       "      <td>Q99081</td>\n",
       "      <td>4.582688</td>\n",
       "    </tr>\n",
       "    <tr>\n",
       "      <th>2</th>\n",
       "      <td>P02765</td>\n",
       "      <td>4.027456</td>\n",
       "    </tr>\n",
       "    <tr>\n",
       "      <th>3</th>\n",
       "      <td>P69905</td>\n",
       "      <td>3.955817</td>\n",
       "    </tr>\n",
       "    <tr>\n",
       "      <th>4</th>\n",
       "      <td>P06732</td>\n",
       "      <td>3.885428</td>\n",
       "    </tr>\n",
       "  </tbody>\n",
       "</table>\n",
       "</div>"
      ],
      "text/plain": [
       "   NODEID     prize\n",
       "0  B0YIW2  5.029366\n",
       "1  Q99081  4.582688\n",
       "2  P02765  4.027456\n",
       "3  P69905  3.955817\n",
       "4  P06732  3.885428"
      ]
     },
     "execution_count": 10,
     "metadata": {},
     "output_type": "execute_result"
    }
   ],
   "source": [
    "prize_05 = prize_05.rename(columns={'Uniprot': 'NODEID', 'Prize':'prize'})\n",
    "prize_05.head()"
   ]
  },
  {
   "cell_type": "code",
   "execution_count": 11,
   "id": "e86bfae3-de60-4a21-80ef-f098056bcc75",
   "metadata": {},
   "outputs": [
    {
     "data": {
      "text/html": [
       "<div>\n",
       "<style scoped>\n",
       "    .dataframe tbody tr th:only-of-type {\n",
       "        vertical-align: middle;\n",
       "    }\n",
       "\n",
       "    .dataframe tbody tr th {\n",
       "        vertical-align: top;\n",
       "    }\n",
       "\n",
       "    .dataframe thead th {\n",
       "        text-align: right;\n",
       "    }\n",
       "</style>\n",
       "<table border=\"1\" class=\"dataframe\">\n",
       "  <thead>\n",
       "    <tr style=\"text-align: right;\">\n",
       "      <th></th>\n",
       "      <th>NODEID</th>\n",
       "      <th>prize</th>\n",
       "    </tr>\n",
       "  </thead>\n",
       "  <tbody>\n",
       "    <tr>\n",
       "      <th>0</th>\n",
       "      <td>A9Z1X7</td>\n",
       "      <td>6.343097</td>\n",
       "    </tr>\n",
       "    <tr>\n",
       "      <th>1</th>\n",
       "      <td>Q99081</td>\n",
       "      <td>6.341176</td>\n",
       "    </tr>\n",
       "    <tr>\n",
       "      <th>2</th>\n",
       "      <td>Q14152</td>\n",
       "      <td>6.278851</td>\n",
       "    </tr>\n",
       "    <tr>\n",
       "      <th>3</th>\n",
       "      <td>B0YIW2</td>\n",
       "      <td>5.581821</td>\n",
       "    </tr>\n",
       "    <tr>\n",
       "      <th>4</th>\n",
       "      <td>P69905</td>\n",
       "      <td>5.581821</td>\n",
       "    </tr>\n",
       "  </tbody>\n",
       "</table>\n",
       "</div>"
      ],
      "text/plain": [
       "   NODEID     prize\n",
       "0  A9Z1X7  6.343097\n",
       "1  Q99081  6.341176\n",
       "2  Q14152  6.278851\n",
       "3  B0YIW2  5.581821\n",
       "4  P69905  5.581821"
      ]
     },
     "execution_count": 11,
     "metadata": {},
     "output_type": "execute_result"
    }
   ],
   "source": [
    "prize_060 = prize_060.rename(columns={'Uniprot': 'NODEID', 'Prize':'prize'})\n",
    "prize_060.head()"
   ]
  },
  {
   "cell_type": "code",
   "execution_count": 12,
   "id": "d72d14ca-69fc-4fff-9ff7-500b07a6f1e4",
   "metadata": {},
   "outputs": [
    {
     "data": {
      "text/html": [
       "<div>\n",
       "<style scoped>\n",
       "    .dataframe tbody tr th:only-of-type {\n",
       "        vertical-align: middle;\n",
       "    }\n",
       "\n",
       "    .dataframe tbody tr th {\n",
       "        vertical-align: top;\n",
       "    }\n",
       "\n",
       "    .dataframe thead th {\n",
       "        text-align: right;\n",
       "    }\n",
       "</style>\n",
       "<table border=\"1\" class=\"dataframe\">\n",
       "  <thead>\n",
       "    <tr style=\"text-align: right;\">\n",
       "      <th></th>\n",
       "      <th>NODEID</th>\n",
       "      <th>prize</th>\n",
       "    </tr>\n",
       "  </thead>\n",
       "  <tbody>\n",
       "    <tr>\n",
       "      <th>0</th>\n",
       "      <td>B0YIW2</td>\n",
       "      <td>5.029366</td>\n",
       "    </tr>\n",
       "    <tr>\n",
       "      <th>1</th>\n",
       "      <td>Q99081</td>\n",
       "      <td>4.582688</td>\n",
       "    </tr>\n",
       "    <tr>\n",
       "      <th>2</th>\n",
       "      <td>P02765</td>\n",
       "      <td>4.027456</td>\n",
       "    </tr>\n",
       "    <tr>\n",
       "      <th>3</th>\n",
       "      <td>P69905</td>\n",
       "      <td>3.955817</td>\n",
       "    </tr>\n",
       "    <tr>\n",
       "      <th>4</th>\n",
       "      <td>P06732</td>\n",
       "      <td>3.885428</td>\n",
       "    </tr>\n",
       "  </tbody>\n",
       "</table>\n",
       "</div>"
      ],
      "text/plain": [
       "   NODEID     prize\n",
       "0  B0YIW2  5.029366\n",
       "1  Q99081  4.582688\n",
       "2  P02765  4.027456\n",
       "3  P69905  3.955817\n",
       "4  P06732  3.885428"
      ]
     },
     "execution_count": 12,
     "metadata": {},
     "output_type": "execute_result"
    }
   ],
   "source": [
    "# prize_05['sources'] = pd.Series(dtype='boolean')\n",
    "# prize_05['targets'] = pd.Series(dtype='boolean')\n",
    "# prize_05['active'] = pd.Series(dtype='boolean')\n",
    "prize_05.head()"
   ]
  },
  {
   "cell_type": "code",
   "execution_count": 13,
   "id": "73f98d5d-f498-4f7d-b6f5-91bcd9cc19c6",
   "metadata": {},
   "outputs": [
    {
     "data": {
      "text/html": [
       "<div>\n",
       "<style scoped>\n",
       "    .dataframe tbody tr th:only-of-type {\n",
       "        vertical-align: middle;\n",
       "    }\n",
       "\n",
       "    .dataframe tbody tr th {\n",
       "        vertical-align: top;\n",
       "    }\n",
       "\n",
       "    .dataframe thead th {\n",
       "        text-align: right;\n",
       "    }\n",
       "</style>\n",
       "<table border=\"1\" class=\"dataframe\">\n",
       "  <thead>\n",
       "    <tr style=\"text-align: right;\">\n",
       "      <th></th>\n",
       "      <th>NODEID</th>\n",
       "      <th>prize</th>\n",
       "    </tr>\n",
       "  </thead>\n",
       "  <tbody>\n",
       "    <tr>\n",
       "      <th>0</th>\n",
       "      <td>A9Z1X7</td>\n",
       "      <td>6.343097</td>\n",
       "    </tr>\n",
       "    <tr>\n",
       "      <th>1</th>\n",
       "      <td>Q99081</td>\n",
       "      <td>6.341176</td>\n",
       "    </tr>\n",
       "    <tr>\n",
       "      <th>2</th>\n",
       "      <td>Q14152</td>\n",
       "      <td>6.278851</td>\n",
       "    </tr>\n",
       "    <tr>\n",
       "      <th>3</th>\n",
       "      <td>B0YIW2</td>\n",
       "      <td>5.581821</td>\n",
       "    </tr>\n",
       "    <tr>\n",
       "      <th>4</th>\n",
       "      <td>P69905</td>\n",
       "      <td>5.581821</td>\n",
       "    </tr>\n",
       "  </tbody>\n",
       "</table>\n",
       "</div>"
      ],
      "text/plain": [
       "   NODEID     prize\n",
       "0  A9Z1X7  6.343097\n",
       "1  Q99081  6.341176\n",
       "2  Q14152  6.278851\n",
       "3  B0YIW2  5.581821\n",
       "4  P69905  5.581821"
      ]
     },
     "execution_count": 13,
     "metadata": {},
     "output_type": "execute_result"
    }
   ],
   "source": [
    "# prize_060['sources'] = pd.Series(dtype='boolean')\n",
    "# prize_060['targets'] = pd.Series(dtype='boolean')\n",
    "# prize_060['active'] = pd.Series(dtype='boolean')\n",
    "prize_060.head()"
   ]
  },
  {
   "cell_type": "markdown",
   "id": "3c93ca16-a523-4a23-8a40-ae149aa704c7",
   "metadata": {},
   "source": [
    "## do ID mapping based on the output from UNIPROT"
   ]
  },
  {
   "cell_type": "code",
   "execution_count": 14,
   "id": "9484f482-ab44-4189-a9f8-c3afc7a9a990",
   "metadata": {},
   "outputs": [
    {
     "data": {
      "text/html": [
       "<div>\n",
       "<style scoped>\n",
       "    .dataframe tbody tr th:only-of-type {\n",
       "        vertical-align: middle;\n",
       "    }\n",
       "\n",
       "    .dataframe tbody tr th {\n",
       "        vertical-align: top;\n",
       "    }\n",
       "\n",
       "    .dataframe thead th {\n",
       "        text-align: right;\n",
       "    }\n",
       "</style>\n",
       "<table border=\"1\" class=\"dataframe\">\n",
       "  <thead>\n",
       "    <tr style=\"text-align: right;\">\n",
       "      <th></th>\n",
       "      <th>From</th>\n",
       "      <th>Entry</th>\n",
       "      <th>Entry Name</th>\n",
       "    </tr>\n",
       "  </thead>\n",
       "  <tbody>\n",
       "    <tr>\n",
       "      <th>0</th>\n",
       "      <td>Q96K83</td>\n",
       "      <td>Q96K83</td>\n",
       "      <td>ZN521_HUMAN</td>\n",
       "    </tr>\n",
       "    <tr>\n",
       "      <th>1</th>\n",
       "      <td>P07305</td>\n",
       "      <td>P07305</td>\n",
       "      <td>H10_HUMAN</td>\n",
       "    </tr>\n",
       "    <tr>\n",
       "      <th>2</th>\n",
       "      <td>O95793</td>\n",
       "      <td>O95793</td>\n",
       "      <td>STAU1_HUMAN</td>\n",
       "    </tr>\n",
       "    <tr>\n",
       "      <th>3</th>\n",
       "      <td>Q5QP82</td>\n",
       "      <td>Q5QP82</td>\n",
       "      <td>DCA10_HUMAN</td>\n",
       "    </tr>\n",
       "    <tr>\n",
       "      <th>4</th>\n",
       "      <td>Q9Y4I1</td>\n",
       "      <td>Q9Y4I1</td>\n",
       "      <td>MYO5A_HUMAN</td>\n",
       "    </tr>\n",
       "  </tbody>\n",
       "</table>\n",
       "</div>"
      ],
      "text/plain": [
       "     From   Entry   Entry Name\n",
       "0  Q96K83  Q96K83  ZN521_HUMAN\n",
       "1  P07305  P07305    H10_HUMAN\n",
       "2  O95793  O95793  STAU1_HUMAN\n",
       "3  Q5QP82  Q5QP82  DCA10_HUMAN\n",
       "4  Q9Y4I1  Q9Y4I1  MYO5A_HUMAN"
      ]
     },
     "execution_count": 14,
     "metadata": {},
     "output_type": "execute_result"
    }
   ],
   "source": [
    "id_mapping = pd.read_csv(\"C:/Users/sumed/BDS-SROP-24/spras_raw_data/idmapping_2024_06_26.tsv\", sep='\\t')\n",
    "id_mapping = id_mapping.drop(columns=['Reviewed', 'Protein names'])\n",
    "id_mapping.head()"
   ]
  },
  {
   "cell_type": "code",
   "execution_count": 15,
   "id": "da7a894e-808f-4149-9b55-a49156f2fce2",
   "metadata": {},
   "outputs": [],
   "source": [
    "def mapping(prize_protein_name, id_mapping_df):\n",
    "    try:\n",
    "        network_protein_name = id_mapping.loc[id_mapping['Entry'] == prize_protein_name, 'Entry Name'].iloc[0]\n",
    "    except IndexError:\n",
    "        network_protein_name = prize_protein_name + '_HUMAN'\n",
    "    return network_protein_name"
   ]
  },
  {
   "cell_type": "code",
   "execution_count": 16,
   "id": "19e021c6-a155-47f0-9898-40b892cfe564",
   "metadata": {},
   "outputs": [
    {
     "data": {
      "text/plain": [
       "'plswork_HUMAN'"
      ]
     },
     "execution_count": 16,
     "metadata": {},
     "output_type": "execute_result"
    }
   ],
   "source": [
    "mapping('plswork', id_mapping)"
   ]
  },
  {
   "cell_type": "code",
   "execution_count": 17,
   "id": "5058434e-0092-4d2a-b9be-5859ff7b1f65",
   "metadata": {},
   "outputs": [
    {
     "data": {
      "text/html": [
       "<div>\n",
       "<style scoped>\n",
       "    .dataframe tbody tr th:only-of-type {\n",
       "        vertical-align: middle;\n",
       "    }\n",
       "\n",
       "    .dataframe tbody tr th {\n",
       "        vertical-align: top;\n",
       "    }\n",
       "\n",
       "    .dataframe thead th {\n",
       "        text-align: right;\n",
       "    }\n",
       "</style>\n",
       "<table border=\"1\" class=\"dataframe\">\n",
       "  <thead>\n",
       "    <tr style=\"text-align: right;\">\n",
       "      <th></th>\n",
       "      <th>NODEID</th>\n",
       "      <th>prize</th>\n",
       "      <th>MappedProteins</th>\n",
       "    </tr>\n",
       "  </thead>\n",
       "  <tbody>\n",
       "    <tr>\n",
       "      <th>0</th>\n",
       "      <td>B0YIW2</td>\n",
       "      <td>5.029366</td>\n",
       "      <td>B0YIW2_HUMAN</td>\n",
       "    </tr>\n",
       "    <tr>\n",
       "      <th>1</th>\n",
       "      <td>Q99081</td>\n",
       "      <td>4.582688</td>\n",
       "      <td>HTF4_HUMAN</td>\n",
       "    </tr>\n",
       "    <tr>\n",
       "      <th>2</th>\n",
       "      <td>P02765</td>\n",
       "      <td>4.027456</td>\n",
       "      <td>FETUA_HUMAN</td>\n",
       "    </tr>\n",
       "    <tr>\n",
       "      <th>3</th>\n",
       "      <td>P69905</td>\n",
       "      <td>3.955817</td>\n",
       "      <td>HBA_HUMAN</td>\n",
       "    </tr>\n",
       "    <tr>\n",
       "      <th>4</th>\n",
       "      <td>P06732</td>\n",
       "      <td>3.885428</td>\n",
       "      <td>KCRM_HUMAN</td>\n",
       "    </tr>\n",
       "  </tbody>\n",
       "</table>\n",
       "</div>"
      ],
      "text/plain": [
       "   NODEID     prize MappedProteins\n",
       "0  B0YIW2  5.029366   B0YIW2_HUMAN\n",
       "1  Q99081  4.582688     HTF4_HUMAN\n",
       "2  P02765  4.027456    FETUA_HUMAN\n",
       "3  P69905  3.955817      HBA_HUMAN\n",
       "4  P06732  3.885428     KCRM_HUMAN"
      ]
     },
     "execution_count": 17,
     "metadata": {},
     "output_type": "execute_result"
    }
   ],
   "source": [
    "prize_05['MappedProteins'] = prize_05.apply(lambda row: mapping(row['NODEID'], id_mapping), axis=1)\n",
    "prize_05.head()"
   ]
  },
  {
   "cell_type": "code",
   "execution_count": 18,
   "id": "992178b1-ac84-4e18-8df3-651d4a049417",
   "metadata": {},
   "outputs": [
    {
     "data": {
      "text/html": [
       "<div>\n",
       "<style scoped>\n",
       "    .dataframe tbody tr th:only-of-type {\n",
       "        vertical-align: middle;\n",
       "    }\n",
       "\n",
       "    .dataframe tbody tr th {\n",
       "        vertical-align: top;\n",
       "    }\n",
       "\n",
       "    .dataframe thead th {\n",
       "        text-align: right;\n",
       "    }\n",
       "</style>\n",
       "<table border=\"1\" class=\"dataframe\">\n",
       "  <thead>\n",
       "    <tr style=\"text-align: right;\">\n",
       "      <th></th>\n",
       "      <th>NODEID</th>\n",
       "      <th>prize</th>\n",
       "    </tr>\n",
       "  </thead>\n",
       "  <tbody>\n",
       "    <tr>\n",
       "      <th>0</th>\n",
       "      <td>B0YIW2_HUMAN</td>\n",
       "      <td>5.029366</td>\n",
       "    </tr>\n",
       "    <tr>\n",
       "      <th>1</th>\n",
       "      <td>HTF4_HUMAN</td>\n",
       "      <td>4.582688</td>\n",
       "    </tr>\n",
       "    <tr>\n",
       "      <th>2</th>\n",
       "      <td>FETUA_HUMAN</td>\n",
       "      <td>4.027456</td>\n",
       "    </tr>\n",
       "    <tr>\n",
       "      <th>3</th>\n",
       "      <td>HBA_HUMAN</td>\n",
       "      <td>3.955817</td>\n",
       "    </tr>\n",
       "    <tr>\n",
       "      <th>4</th>\n",
       "      <td>KCRM_HUMAN</td>\n",
       "      <td>3.885428</td>\n",
       "    </tr>\n",
       "  </tbody>\n",
       "</table>\n",
       "</div>"
      ],
      "text/plain": [
       "         NODEID     prize\n",
       "0  B0YIW2_HUMAN  5.029366\n",
       "1    HTF4_HUMAN  4.582688\n",
       "2   FETUA_HUMAN  4.027456\n",
       "3     HBA_HUMAN  3.955817\n",
       "4    KCRM_HUMAN  3.885428"
      ]
     },
     "execution_count": 18,
     "metadata": {},
     "output_type": "execute_result"
    }
   ],
   "source": [
    "mapped_proteins = prize_05['MappedProteins'].tolist()\n",
    "prize_05['NODEID'] = mapped_proteins\n",
    "prize_05 = prize_05.drop('MappedProteins',axis=1)\n",
    "prize_05.head()"
   ]
  },
  {
   "cell_type": "code",
   "execution_count": 19,
   "id": "c87d15e9-2ab0-4a64-96b0-24665ae3e9bf",
   "metadata": {},
   "outputs": [
    {
     "data": {
      "text/html": [
       "<div>\n",
       "<style scoped>\n",
       "    .dataframe tbody tr th:only-of-type {\n",
       "        vertical-align: middle;\n",
       "    }\n",
       "\n",
       "    .dataframe tbody tr th {\n",
       "        vertical-align: top;\n",
       "    }\n",
       "\n",
       "    .dataframe thead th {\n",
       "        text-align: right;\n",
       "    }\n",
       "</style>\n",
       "<table border=\"1\" class=\"dataframe\">\n",
       "  <thead>\n",
       "    <tr style=\"text-align: right;\">\n",
       "      <th></th>\n",
       "      <th>NODEID</th>\n",
       "      <th>prize</th>\n",
       "      <th>MappedProteins</th>\n",
       "    </tr>\n",
       "  </thead>\n",
       "  <tbody>\n",
       "    <tr>\n",
       "      <th>0</th>\n",
       "      <td>A9Z1X7</td>\n",
       "      <td>6.343097</td>\n",
       "      <td>A9Z1X7_HUMAN</td>\n",
       "    </tr>\n",
       "    <tr>\n",
       "      <th>1</th>\n",
       "      <td>Q99081</td>\n",
       "      <td>6.341176</td>\n",
       "      <td>HTF4_HUMAN</td>\n",
       "    </tr>\n",
       "    <tr>\n",
       "      <th>2</th>\n",
       "      <td>Q14152</td>\n",
       "      <td>6.278851</td>\n",
       "      <td>EIF3A_HUMAN</td>\n",
       "    </tr>\n",
       "    <tr>\n",
       "      <th>3</th>\n",
       "      <td>B0YIW2</td>\n",
       "      <td>5.581821</td>\n",
       "      <td>B0YIW2_HUMAN</td>\n",
       "    </tr>\n",
       "    <tr>\n",
       "      <th>4</th>\n",
       "      <td>P69905</td>\n",
       "      <td>5.581821</td>\n",
       "      <td>HBA_HUMAN</td>\n",
       "    </tr>\n",
       "  </tbody>\n",
       "</table>\n",
       "</div>"
      ],
      "text/plain": [
       "   NODEID     prize MappedProteins\n",
       "0  A9Z1X7  6.343097   A9Z1X7_HUMAN\n",
       "1  Q99081  6.341176     HTF4_HUMAN\n",
       "2  Q14152  6.278851    EIF3A_HUMAN\n",
       "3  B0YIW2  5.581821   B0YIW2_HUMAN\n",
       "4  P69905  5.581821      HBA_HUMAN"
      ]
     },
     "execution_count": 19,
     "metadata": {},
     "output_type": "execute_result"
    }
   ],
   "source": [
    "prize_060['MappedProteins'] = prize_060.apply(lambda row: mapping(row['NODEID'], id_mapping), axis=1)\n",
    "prize_060.head()"
   ]
  },
  {
   "cell_type": "code",
   "execution_count": 20,
   "id": "95d7715b-6129-4c11-8bdb-03d3685ebc82",
   "metadata": {},
   "outputs": [
    {
     "data": {
      "text/html": [
       "<div>\n",
       "<style scoped>\n",
       "    .dataframe tbody tr th:only-of-type {\n",
       "        vertical-align: middle;\n",
       "    }\n",
       "\n",
       "    .dataframe tbody tr th {\n",
       "        vertical-align: top;\n",
       "    }\n",
       "\n",
       "    .dataframe thead th {\n",
       "        text-align: right;\n",
       "    }\n",
       "</style>\n",
       "<table border=\"1\" class=\"dataframe\">\n",
       "  <thead>\n",
       "    <tr style=\"text-align: right;\">\n",
       "      <th></th>\n",
       "      <th>NODEID</th>\n",
       "      <th>prize</th>\n",
       "    </tr>\n",
       "  </thead>\n",
       "  <tbody>\n",
       "    <tr>\n",
       "      <th>0</th>\n",
       "      <td>A9Z1X7_HUMAN</td>\n",
       "      <td>6.343097</td>\n",
       "    </tr>\n",
       "    <tr>\n",
       "      <th>1</th>\n",
       "      <td>HTF4_HUMAN</td>\n",
       "      <td>6.341176</td>\n",
       "    </tr>\n",
       "    <tr>\n",
       "      <th>2</th>\n",
       "      <td>EIF3A_HUMAN</td>\n",
       "      <td>6.278851</td>\n",
       "    </tr>\n",
       "    <tr>\n",
       "      <th>3</th>\n",
       "      <td>B0YIW2_HUMAN</td>\n",
       "      <td>5.581821</td>\n",
       "    </tr>\n",
       "    <tr>\n",
       "      <th>4</th>\n",
       "      <td>HBA_HUMAN</td>\n",
       "      <td>5.581821</td>\n",
       "    </tr>\n",
       "  </tbody>\n",
       "</table>\n",
       "</div>"
      ],
      "text/plain": [
       "         NODEID     prize\n",
       "0  A9Z1X7_HUMAN  6.343097\n",
       "1    HTF4_HUMAN  6.341176\n",
       "2   EIF3A_HUMAN  6.278851\n",
       "3  B0YIW2_HUMAN  5.581821\n",
       "4     HBA_HUMAN  5.581821"
      ]
     },
     "execution_count": 20,
     "metadata": {},
     "output_type": "execute_result"
    }
   ],
   "source": [
    "mapped_proteins = prize_060['MappedProteins'].tolist()\n",
    "prize_060['NODEID'] = mapped_proteins\n",
    "prize_060 = prize_060.drop('MappedProteins',axis=1)\n",
    "prize_060.head()"
   ]
  },
  {
   "cell_type": "markdown",
   "id": "c54a9c98-4b37-4ee9-a5b9-3f592d66256b",
   "metadata": {},
   "source": [
    "## save these modified prize files "
   ]
  },
  {
   "cell_type": "code",
   "execution_count": 22,
   "id": "4638409f-7e07-4bd7-9503-5d4fbfa37ce5",
   "metadata": {},
   "outputs": [],
   "source": [
    "prize_05.to_csv(\"C:/Users/sumed/BDS-SROP-24/spras_processed_data/modified_prize_05.txt\", index=False, sep='\\t')\n",
    "prize_060.to_csv(\"C:/Users/sumed/BDS-SROP-24/spras_processed_data/modified_prize_060.txt\", index=False, sep='\\t')"
   ]
  },
  {
   "cell_type": "code",
   "execution_count": null,
   "id": "38fdf579-0e40-42ed-bc9b-49c428e3cf19",
   "metadata": {},
   "outputs": [],
   "source": []
  }
 ],
 "metadata": {
  "kernelspec": {
   "display_name": "Python 3 (ipykernel)",
   "language": "python",
   "name": "python3"
  },
  "language_info": {
   "codemirror_mode": {
    "name": "ipython",
    "version": 3
   },
   "file_extension": ".py",
   "mimetype": "text/x-python",
   "name": "python",
   "nbconvert_exporter": "python",
   "pygments_lexer": "ipython3",
   "version": "3.11.7"
  }
 },
 "nbformat": 4,
 "nbformat_minor": 5
}
